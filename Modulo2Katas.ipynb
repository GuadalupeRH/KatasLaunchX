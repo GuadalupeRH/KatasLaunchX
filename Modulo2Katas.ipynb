{
 "cells": [
  {
   "cell_type": "markdown",
   "id": "b1516496-1da3-4871-90ca-72bf408e368a",
   "metadata": {},
   "source": [
    "# Creando un entorno virtual"
   ]
  },
  {
   "cell_type": "markdown",
   "id": "b52deed8-a4bb-41ea-a56d-2b8f56f4f1c8",
   "metadata": {
    "tags": []
   },
   "source": [
    "Creando mi entorno virtual con el comando ``env``"
   ]
  },
  {
   "cell_type": "markdown",
   "id": "11eb1cd2-92d3-46ef-a346-976cca7a6eac",
   "metadata": {},
   "source": [
    "![Paso1](./images/k2_p1.PNG)"
   ]
  },
  {
   "cell_type": "markdown",
   "id": "b37c27ca-f733-4aaf-9236-adfec04908ac",
   "metadata": {},
   "source": [
    "Instalar una biblioteca con ``pip install``"
   ]
  },
  {
   "cell_type": "markdown",
   "id": "3a7c514c-14c6-4248-be36-f412ead61eab",
   "metadata": {},
   "source": [
    "![Paso2](./images/k2_p3.PNG)"
   ]
  },
  {
   "cell_type": "markdown",
   "id": "bf24d524-eac9-4f34-9305-38d4e0c8c1d5",
   "metadata": {},
   "source": [
    "Ejecutar codigo desde el entorno:"
   ]
  },
  {
   "cell_type": "markdown",
   "id": "be13d197-59b0-48bf-92ea-84ca9c8c5dd0",
   "metadata": {},
   "source": [
    "![Paso1](./images/k2_p4.PNG)"
   ]
  }
 ],
 "metadata": {
  "kernelspec": {
   "display_name": "Python 3 (ipykernel)",
   "language": "python",
   "name": "python3"
  },
  "language_info": {
   "codemirror_mode": {
    "name": "ipython",
    "version": 3
   },
   "file_extension": ".py",
   "mimetype": "text/x-python",
   "name": "python",
   "nbconvert_exporter": "python",
   "pygments_lexer": "ipython3",
   "version": "3.10.2"
  }
 },
 "nbformat": 4,
 "nbformat_minor": 5
}
